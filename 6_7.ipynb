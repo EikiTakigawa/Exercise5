{
 "cells": [
  {
   "cell_type": "markdown",
   "metadata": {},
   "source": [
    "# Applied Computational Economics and Finace 6.6\n",
    "\n",
    "これまで学んできた補間を実装するために便利な関数を提供してくれている\n"
   ]
  },
  {
   "cell_type": "markdown",
   "metadata": {},
   "source": [
    "## fundefn(bastype, n, a, b, order)\n",
    "\n",
    "### 補間の形式、始点と終点などの情報を要約してくれる\n",
    "\n",
    "* bastypeには補間の形式をいれる。チェビチェフのノードを使う多項式補間なら:cheb、スプラインなら:spil、線形スプラインなら:linとする\n",
    "* nは多項式補間の場合は補間の点の数、スプライン補間なら基底の関数の数\n",
    "* aは補間の始点\n",
    "* bは補間の終点\n",
    "* orderはスプライン補間のときのみのオプションで、スプライン関数の次元"
   ]
  },
  {
   "cell_type": "code",
   "execution_count": 1,
   "metadata": {
    "collapsed": false
   },
   "outputs": [
    {
     "name": "stderr",
     "output_type": "stream",
     "text": [
      "INFO: Recompiling stale cache file C:\\Users\\eiki\\.julia\\lib\\v0.5\\BasisMatrices.ji for module BasisMatrices.\n"
     ]
    },
    {
     "name": "stdout",
     "output_type": "stream",
     "text": [
      "[0x7FFFB13870E3] ANOMALY: use of REX.w is meaningless (default operand size is 64)\n",
      "[0x7FFFB13870E3] ANOMALY: use of REX.w is meaningless (default operand size is 64)\n",
      "[0x7FFFB13870E3] ANOMALY: use of REX.w is meaningless (default operand size is 64)\n",
      "[0x7FFFB13870E3] ANOMALY: use of REX.w is meaningless (default operand size is 64)\n",
      "[0x7FFFB13870E3] ANOMALY: use of REX.w is meaningless (default operand size is 64)\n",
      "[0x7FFFB13870E3] ANOMALY: use of REX.w is meaningless (default operand size is 64)\n",
      "[0x7FFFB13870E3] ANOMALY: use of REX.w is meaningless (default operand size is 64)\n",
      "[0x7FFFB13870E3] ANOMALY: use of REX.w is meaningless (default operand size is 64)\n",
      "[0x7FFFB13870E3] ANOMALY: use of REX.w is meaningless (default operand size is 64)\n",
      "[0x7FFFB13870E3] ANOMALY: use of REX.w is meaningless (default operand size is 64)\n",
      "[0x7FFFB13870E3] ANOMALY: use of REX.w is meaningless (default operand size is 64)\n",
      "[0x7FFFB13870E3] ANOMALY: use of REX.w is meaningless (default operand size is 64)\n",
      "[0x7FFFB13870E3] ANOMALY: use of REX.w is meaningless (default operand size is 64)\n",
      "[0x7FFFB13870E3] ANOMALY: use of REX.w is meaningless (default operand size is 64)\n",
      "[0x7FFFB13870E3] ANOMALY: use of REX.w is meaningless (default operand size is 64)\n",
      "[0x7FFFB13870E3] ANOMALY: use of REX.w is meaningless (default operand size is 64)\n",
      "[0x7FFFB13870E3] ANOMALY: use of REX.w is meaningless (default operand size is 64)\n"
     ]
    }
   ],
   "source": [
    "using BasisMatrices"
   ]
  },
  {
   "cell_type": "code",
   "execution_count": 3,
   "metadata": {
    "collapsed": false
   },
   "outputs": [
    {
     "name": "stderr",
     "output_type": "stream",
     "text": [
      "INFO: Recompiling stale cache file C:\\Users\\eiki\\.julia\\lib\\v0.5\\CompEcon.ji for module CompEcon.\n"
     ]
    },
    {
     "name": "stdout",
     "output_type": "stream",
     "text": [
      "[0x7FFFB13870E3] ANOMALY: use of REX.w is meaningless (default operand size is 64)\r\n"
     ]
    }
   ],
   "source": [
    "using CompEcon"
   ]
  },
  {
   "cell_type": "code",
   "execution_count": 4,
   "metadata": {
    "collapsed": false
   },
   "outputs": [
    {
     "data": {
      "text/plain": [
       "Dict{Symbol,Any} with 6 entries:\n",
       "  :params   => Any[Any[10,-1,2]]\n",
       "  :a        => [-1.0]\n",
       "  :b        => [2.0]\n",
       "  :n        => [10]\n",
       "  :d        => 1\n",
       "  :basetype => Symbol[:cheb]"
      ]
     },
     "execution_count": 4,
     "metadata": {},
     "output_type": "execute_result"
    }
   ],
   "source": [
    "fspace1 = fundefn(:cheb, 10, -1, 2)"
   ]
  },
  {
   "cell_type": "markdown",
   "metadata": {},
   "source": [
    "## funfitf(fspace, f, additional parameter)\n",
    "\n",
    "### fspaceで与えられた補間の情報をもとに、関数fの補間の係数を求める\n",
    "\n",
    "* fspaceは前述のfundefnの結果で、どういった補間をするかという情報\n",
    "* fは補間したい関数\n",
    "* additional parameterは関数fに入れる未知数\n",
    "\n",
    "これだけだと、既知の関数を補間するのでそれほど役に立たない"
   ]
  },
  {
   "cell_type": "markdown",
   "metadata": {},
   "source": [
    "## funfitxy(fspace, x, y)\n",
    "\n",
    "### fspaceで与えられた補間の情報をもとに、x, yで示された点の補間の係数を求める\n",
    "\n",
    "* fspaceは同様\n",
    "* xは既知の説明変数の値の行列\n",
    "* yは上のxに対応する実現値"
   ]
  },
  {
   "cell_type": "markdown",
   "metadata": {},
   "source": [
    "## funeval(c, fspace, x)\n",
    "\n",
    "### どのような補間か決まり、その補間の係数が求められたのちに、xでの当てはめ値を返す\n",
    "* c上のfunfitf,funfitxyで求めた係数\n",
    "* fspaceはこれまでと同様\n",
    "* xに入れた点で補間の当てはめ値を返す\n"
   ]
  },
  {
   "cell_type": "markdown",
   "metadata": {},
   "source": [
    "## funeval(c, fspace, x, order)\n",
    "\n",
    "### orderに入れられた数字の回数だけ補間の関数を微分し、その当てはめ値を返す"
   ]
  },
  {
   "cell_type": "code",
   "execution_count": 5,
   "metadata": {
    "collapsed": false
   },
   "outputs": [
    {
     "data": {
      "text/plain": [
       "f (generic function with 1 method)"
      ]
     },
     "execution_count": 5,
     "metadata": {},
     "output_type": "execute_result"
    }
   ],
   "source": [
    "f(x) = exp(-2x)"
   ]
  },
  {
   "cell_type": "code",
   "execution_count": 6,
   "metadata": {
    "collapsed": false
   },
   "outputs": [
    {
     "data": {
      "text/plain": [
       "Dict{Symbol,Any} with 6 entries:\n",
       "  :params   => Any[Any[10,-1,1]]\n",
       "  :a        => [-1.0]\n",
       "  :b        => [1.0]\n",
       "  :n        => [10]\n",
       "  :d        => 1\n",
       "  :basetype => Symbol[:cheb]"
      ]
     },
     "execution_count": 6,
     "metadata": {},
     "output_type": "execute_result"
    }
   ],
   "source": [
    "fspace = fundefn(:cheb, 10, -1, 1)"
   ]
  },
  {
   "cell_type": "code",
   "execution_count": 8,
   "metadata": {
    "collapsed": false
   },
   "outputs": [
    {
     "data": {
      "text/plain": [
       "10-element Array{Float64,1}:\n",
       "  2.27959    \n",
       " -3.18127    \n",
       "  1.3779     \n",
       " -0.42548    \n",
       "  0.101457   \n",
       " -0.0196514  \n",
       "  0.00320035 \n",
       " -0.000449278\n",
       "  5.53942e-5 \n",
       " -6.03393e-6 "
      ]
     },
     "execution_count": 8,
     "metadata": {},
     "output_type": "execute_result"
    }
   ],
   "source": [
    "c = funfitf(fspace, f)"
   ]
  },
  {
   "cell_type": "code",
   "execution_count": 9,
   "metadata": {
    "collapsed": false
   },
   "outputs": [
    {
     "data": {
      "text/plain": [
       "1001-element LinSpace{Float64}:\n",
       " -1.0,-0.998,-0.996,-0.994,-0.992,-0.99,…,0.99,0.992,0.994,0.996,0.998,1.0"
      ]
     },
     "execution_count": 9,
     "metadata": {},
     "output_type": "execute_result"
    }
   ],
   "source": [
    "x = linspace(-1, 1, 1001)"
   ]
  },
  {
   "cell_type": "code",
   "execution_count": 10,
   "metadata": {
    "collapsed": false
   },
   "outputs": [
    {
     "data": {
      "text/plain": [
       "([7.38906,7.35956,7.33018,7.30092,7.27177,7.24274,7.21383,7.18503,7.15635,7.12778  …  0.140296,0.139736,0.139178,0.138623,0.138069,0.137518,0.136969,0.136422,0.135877,0.135335],Dict{Symbol,Any}(Pair{Symbol,Any}(:format,:expanded),Pair{Symbol,Any}(:order,[0]),Pair{Symbol,Any}(:vals,Any[[1.0 -1.0 … 1.0 -1.0; 1.0 -0.998 … 0.874667 -0.842276; … ; 1.0 0.998 … 0.874667 0.842276; 1.0 1.0 … 1.0 1.0]])))"
      ]
     },
     "execution_count": 10,
     "metadata": {},
     "output_type": "execute_result"
    }
   ],
   "source": [
    "y = funeval(c, fspace, x)"
   ]
  },
  {
   "cell_type": "code",
   "execution_count": 11,
   "metadata": {
    "collapsed": false
   },
   "outputs": [
    {
     "data": {
      "text/plain": [
       "1001-element Array{Float64,1}:\n",
       " 7.38906 \n",
       " 7.35956 \n",
       " 7.33018 \n",
       " 7.30092 \n",
       " 7.27177 \n",
       " 7.24274 \n",
       " 7.21383 \n",
       " 7.18503 \n",
       " 7.15635 \n",
       " 7.12778 \n",
       " 7.09933 \n",
       " 7.07099 \n",
       " 7.04276 \n",
       " ⋮       \n",
       " 0.141423\n",
       " 0.140859\n",
       " 0.140296\n",
       " 0.139736\n",
       " 0.139178\n",
       " 0.138623\n",
       " 0.138069\n",
       " 0.137518\n",
       " 0.136969\n",
       " 0.136422\n",
       " 0.135877\n",
       " 0.135335"
      ]
     },
     "execution_count": 11,
     "metadata": {},
     "output_type": "execute_result"
    }
   ],
   "source": [
    "y[1]"
   ]
  },
  {
   "cell_type": "code",
   "execution_count": 12,
   "metadata": {
    "collapsed": true
   },
   "outputs": [],
   "source": [
    "using Plots"
   ]
  },
  {
   "cell_type": "code",
   "execution_count": 13,
   "metadata": {
    "collapsed": false
   },
   "outputs": [
    {
     "data": {
      "text/html": [
       "<img src=\"data:image/png;base64,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\" />"
      ]
     },
     "execution_count": 13,
     "metadata": {},
     "output_type": "execute_result"
    }
   ],
   "source": [
    "plot(x, y[1]-f(x))"
   ]
  },
  {
   "cell_type": "markdown",
   "metadata": {},
   "source": [
    "## funbas(fspace, x)\n",
    "\n",
    "### fspaceからわかる基底関数のxでの当てはめ値を返す"
   ]
  },
  {
   "cell_type": "markdown",
   "metadata": {},
   "source": [
    "## funnode(fspace)\n",
    "\n",
    "### fspaceで与えられて補間のノードを返す"
   ]
  },
  {
   "cell_type": "code",
   "execution_count": null,
   "metadata": {
    "collapsed": true
   },
   "outputs": [],
   "source": []
  }
 ],
 "metadata": {
  "kernelspec": {
   "display_name": "Julia 0.5.0",
   "language": "julia",
   "name": "julia-0.5"
  },
  "language_info": {
   "file_extension": ".jl",
   "mimetype": "application/julia",
   "name": "julia",
   "version": "0.5.0"
  }
 },
 "nbformat": 4,
 "nbformat_minor": 0
}
