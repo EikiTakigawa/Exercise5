{
 "cells": [
  {
   "cell_type": "markdown",
   "metadata": {},
   "source": [
    "# Industry Entry and Exit"
   ]
  },
  {
   "cell_type": "markdown",
   "metadata": {},
   "source": [
    "From Miranda and Fackler, Applied Computational Economics and Finance, 2002, Section 9.6.2"
   ]
  },
  {
   "cell_type": "markdown",
   "metadata": {},
   "source": [
    "### 設定\n",
    "* 期首に企業はその期に操業した場合の、短期の利潤 $\\pi_t$ を観察する\n",
    "* その期に操業するか否かを決める。操業した場合の利潤は $\\pi_t$、しない場合は $0$\n",
    "* 前期操業していて、今期操業をしない場合、shutdown cost $K_0$ がかかる\n",
    "* 前期操業しておらず、今期操業する場合は、start-up cost $K_1$ がかかる\n",
    "* 短期利潤は、外生的な確率変数を含むマルコフ過程に従う"
   ]
  },
  {
   "cell_type": "markdown",
   "metadata": {},
   "source": [
    "状態変数は当期の短期利潤と、前期操業していたか否かである  \n",
    "$\\pi \\in (-\\infty, \\infty)$  \n",
    "$d \\in \\{0, 1\\}$  \n",
    "$d=1$ は操業していたことを、$d=0$ は操業していなかったことを示す"
   ]
  },
  {
   "cell_type": "markdown",
   "metadata": {},
   "source": [
    "$\\pi$ はマルコフ過程に従うので、  \n",
    "$\\pi_{t+1} = h \\left( \\pi_{t}, \\epsilon_{t+1} \\right)$  \n",
    "と遷移すると表現される"
   ]
  },
  {
   "cell_type": "markdown",
   "metadata": {},
   "source": [
    "行動変数は  \n",
    "$x \\in \\{0, 1 \\}$  \n",
    "であり、$x=1$ は操業することを、$x=0$ は操業しないことを示す\n"
   ]
  },
  {
   "cell_type": "markdown",
   "metadata": {},
   "source": [
    "Reward function は以下のようになる\n",
    "$$\n",
    "f \\left(\\pi, d, x \\right) = \\pi x - K_{1} \\left(1-d\\right)x - K_{0}d\\left( 1-x \\right)\n",
    "$$"
   ]
  },
  {
   "cell_type": "markdown",
   "metadata": {},
   "source": [
    "したがって、その期の利潤と前期の操業状態を与えられたときの企業の価値は、割り引き因子を $\\delta$ として、以下のベルマン方程式に従う\n",
    "$$\n",
    "V\\left( \\pi, d\\right) = \\max_{x=0,1} \\{ \\pi x - K_{1} \\left(1-d\\right)x - K_{0}d\\left(1-x\\right) + \\delta E_{\\epsilon}V\\left( h \\left( \\pi, \\epsilon \\right), x \\right) \\}\n",
    "$$"
   ]
  },
  {
   "cell_type": "markdown",
   "metadata": {},
   "source": [
    "しかし、このままでは value function が2変数関数になり、計算が難しく、分析もしづらい  \n",
    "そこで、value function を $d$ の値に応じて2つにわける  \n",
    "$d=1$のときは $V$、$d=0$ のときは $U$ とする"
   ]
  },
  {
   "cell_type": "markdown",
   "metadata": {},
   "source": [
    "そうすると、$V$、$U$ は以下のベルマン方程式に従う\n",
    "$$\n",
    "V\\left(\\pi_{t}\\right) = \\max \\{ \\pi_{t} + \\delta E_{\\epsilon}V\\left( h \\left( \\pi, \\epsilon \\right)\\right),\\   -K_{0} + \\delta E_{\\epsilon}U\\left( h \\left( \\pi, \\epsilon \\right)\\right) \\}\n",
    "$$\n",
    "$$\n",
    "U\\left(\\pi_{t}\\right) = \\max \\{ \\pi_{t} - K_{1} + \\delta E_{\\epsilon}V\\left( h \\left( \\pi, \\epsilon \\right)\\right),\\   \\delta E_{\\epsilon}U\\left( h \\left( \\pi, \\epsilon \\right)\\right) \\}\n",
    "$$"
   ]
  },
  {
   "cell_type": "markdown",
   "metadata": {},
   "source": [
    "上式の $\\max$ の中の左側の項が今期操業した場合を、右側の項が今期操業しなかった場合を意味する"
   ]
  },
  {
   "cell_type": "markdown",
   "metadata": {},
   "source": [
    "過去の操業状態と、現在の利潤によって、企業の価値がどうなるかを計算する"
   ]
  },
  {
   "cell_type": "code",
   "execution_count": 1,
   "metadata": {
    "collapsed": true
   },
   "outputs": [],
   "source": [
    "using QuantEcon\n",
    "using Plots"
   ]
  },
  {
   "cell_type": "markdown",
   "metadata": {},
   "source": [
    "$\\pi$は具体的に以下のような形のマルコフ過程に従うと仮定する\n",
    "$$\n",
    "\\pi_{t+1} = \\bar{\\pi} + \\gamma \\left( \\pi_{t} - \\bar{\\pi} \\right) + \\epsilon_{t+1}\n",
    "$$\n",
    "$$\n",
    "\\epsilon_{t}, \\  i.i.d. \\sim N(0,  \\sigma^{2})\n",
    "$$"
   ]
  },
  {
   "cell_type": "markdown",
   "metadata": {},
   "source": [
    "各パラメータを収める struct を作る"
   ]
  },
  {
   "cell_type": "code",
   "execution_count": 2,
   "metadata": {
    "collapsed": true
   },
   "outputs": [],
   "source": [
    "mutable struct IndustryEntry\n",
    "    pibar::AbstractFloat # 翌期の profit に影響を与えるパラメータ\n",
    "    gamma::AbstractFloat # 翌期の profit に影響を与えるパラメータ\n",
    "    kentry::AbstractFloat # Entry cost\n",
    "    kexit::AbstractFloat # Exit cost\n",
    "    sigma::AbstractFloat # Variance of random shock\n",
    "    delta::AbstractFloat # Discount factor\n",
    "    p_vec::AbstractVector{AbstractFloat} # Profits grid\n",
    "end"
   ]
  },
  {
   "cell_type": "code",
   "execution_count": 3,
   "metadata": {},
   "outputs": [],
   "source": [
    "IE = IndustryEntry(0.0, 0.7, 10, 5, 1.0, 0.9, collect(linspace(-10, 10, 100)));"
   ]
  },
  {
   "cell_type": "markdown",
   "metadata": {},
   "source": [
    "ベルマン方程式中に出てくる期待値の計算は本来は積分する必要があるが、コンピュータ上で積分計算は面倒(できない？)  \n",
    "そこで、`QunatEcon` の `qnwnorm`という関数を用いて離散化する"
   ]
  },
  {
   "cell_type": "markdown",
   "metadata": {},
   "source": [
    "`qnwnorm` を使えば、正規分布について離散化して、とりうる値とそれに対応するウェイトをだしてくれるので、\n",
    "$$\n",
    "E_{\\epsilon}V\\left( h \\left( \\pi, \\epsilon \\right)\\right) = \\int_{-\\infty}^{\\infty}V\\left( h \\left( \\pi, \\epsilon \\right)\\right) f(\\epsilon)d\\epsilon\n",
    "$$\n",
    "とすべきところを、\n",
    "$$\n",
    "E_{\\epsilon}V\\left( h \\left( \\pi, \\epsilon \\right)\\right) \\simeq \\sum_{k=1}^{n} V\\left( h \\left( \\pi, \\epsilon_{k} \\right)\\right)w_{k}\n",
    "$$\n",
    "と置き換えて計算する"
   ]
  },
  {
   "cell_type": "markdown",
   "metadata": {},
   "source": [
    "ただし、ここでの $f(\\epsilon)$ は $\\epsilon$ の確率密度関数である"
   ]
  },
  {
   "cell_type": "code",
   "execution_count": 4,
   "metadata": {},
   "outputs": [
    {
     "data": {
      "text/plain": [
       "update_bellman (generic function with 1 method)"
      ]
     },
     "execution_count": 4,
     "metadata": {},
     "output_type": "execute_result"
    }
   ],
   "source": [
    "# IE のベルマン方程式を更新する関数\n",
    "function update_bellman(IE::IndustryEntry, V::Vector, U::Vector)\n",
    "    pibar, g, k1, k0, s, d = IE.pibar, IE.gamma, IE.kentry, IE.kexit, IE.sigma, IE.delta\n",
    "    V_func = LinInterp(IE.p_vec, V)\n",
    "    U_func = LinInterp(IE.p_vec, U)\n",
    "    V_new = similar(V)\n",
    "    U_new = similar(U)\n",
    "    e, w = qnwnorm(5, 0, s)\n",
    "    \n",
    "    for (p_idx, p) in enumerate(IE.p_vec)\n",
    "        V_new[p_idx] = max(p + d * dot(V_func.(e .+ pibar .+ (g*(p-pibar))), w),\n",
    "                           -k0 + d * dot(U_func.(e .+ pibar .+ (g*(p-pibar))), w))\n",
    "    end\n",
    "    \n",
    "    for (p_idx, p) in enumerate(IE.p_vec)\n",
    "        U_new[p_idx] = max(p - k1 + d * dot(V_func.(e .+ pibar .+ (g*(p-pibar))), w),\n",
    "                           d * dot(U_func.(e .+ pibar .+ (g*(p-pibar))), w))\n",
    "    end\n",
    "    \n",
    "    return V_new, U_new\n",
    "end"
   ]
  },
  {
   "cell_type": "markdown",
   "metadata": {},
   "source": [
    "各短期利潤ごとに適当な価値を割り振り、そこからベルマン方程式を繰り返し更新する"
   ]
  },
  {
   "cell_type": "code",
   "execution_count": 5,
   "metadata": {
    "collapsed": true
   },
   "outputs": [],
   "source": [
    "# Initial guess\n",
    "V = zeros(length(IE.p_vec))\n",
    "U = ones(length(IE.p_vec));"
   ]
  },
  {
   "cell_type": "code",
   "execution_count": 6,
   "metadata": {
    "collapsed": true
   },
   "outputs": [],
   "source": [
    "V_computed = copy(V)\n",
    "U_computed = copy(U)\n",
    "for i in 1:500\n",
    "    V_computed, U_computed = update_bellman(IE, V_computed, U_computed)\n",
    "end"
   ]
  },
  {
   "cell_type": "code",
   "execution_count": 7,
   "metadata": {},
   "outputs": [
    {
     "data": {
      "text/html": [
       "<img src=\"data:image/png;base64,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\" />"
      ]
     },
     "execution_count": 7,
     "metadata": {},
     "output_type": "execute_result"
    }
   ],
   "source": [
    "plot(IE.p_vec, [V_computed U_computed], label=[\"Active\" \"Inactive\"],\n",
    "     xlabel=\"Profit\", ylabel=\"Value\", ylims=(-10, 30), yticks=-10:10:30)"
   ]
  },
  {
   "cell_type": "markdown",
   "metadata": {},
   "source": [
    "上図でシャープに右肩上がりになっている範囲では今期操業し、ほぼ一定になっているところでは操業しないという選択をしていると考えられる"
   ]
  },
  {
   "cell_type": "markdown",
   "metadata": {},
   "source": [
    "前期の状態ごとに、どのあたりが操業の分岐点になっているかを調べる"
   ]
  },
  {
   "cell_type": "code",
   "execution_count": 8,
   "metadata": {},
   "outputs": [
    {
     "data": {
      "text/plain": [
       "99-element Array{Float64,1}:\n",
       " 8.27817e-5 \n",
       " 8.47804e-5 \n",
       " 8.72622e-5 \n",
       " 8.96701e-5 \n",
       " 9.1674e-5  \n",
       " 9.44078e-5 \n",
       " 9.76939e-5 \n",
       " 0.000100563\n",
       " 0.000103218\n",
       " 0.000106248\n",
       " 0.000109739\n",
       " 0.000112961\n",
       " 0.000116717\n",
       " ⋮          \n",
       " 0.544172   \n",
       " 0.544224   \n",
       " 0.54428    \n",
       " 0.544328   \n",
       " 0.54437    \n",
       " 0.544417   \n",
       " 0.544472   \n",
       " 0.544515   \n",
       " 0.544549   \n",
       " 0.544588   \n",
       " 0.544628   \n",
       " 0.54466    "
      ]
     },
     "execution_count": 8,
     "metadata": {},
     "output_type": "execute_result"
    }
   ],
   "source": [
    "# V_computed の差分\n",
    "V_diff = Vector{Float64}(length(V_computed)-1)\n",
    "for i in 1:length(V_diff)\n",
    "    V_diff[i] = V_computed[i+1] - V_computed[i]\n",
    "end\n",
    "V_diff"
   ]
  },
  {
   "cell_type": "code",
   "execution_count": 9,
   "metadata": {},
   "outputs": [
    {
     "data": {
      "text/html": [
       "39"
      ],
      "text/plain": [
       "39"
      ]
     },
     "execution_count": 9,
     "metadata": {},
     "output_type": "execute_result"
    }
   ],
   "source": [
    "findfirst(V_diff .- 0.1 .> 0, true)"
   ]
  },
  {
   "cell_type": "code",
   "execution_count": 10,
   "metadata": {},
   "outputs": [
    {
     "data": {
      "text/html": [
       "-2.323232323232323"
      ],
      "text/plain": [
       "-2.323232323232323"
      ]
     },
     "execution_count": 10,
     "metadata": {},
     "output_type": "execute_result"
    }
   ],
   "source": [
    "IE.p_vec[39]"
   ]
  },
  {
   "cell_type": "code",
   "execution_count": 11,
   "metadata": {},
   "outputs": [
    {
     "data": {
      "text/html": [
       "-2.121212121212121"
      ],
      "text/plain": [
       "-2.121212121212121"
      ]
     },
     "execution_count": 11,
     "metadata": {},
     "output_type": "execute_result"
    }
   ],
   "source": [
    "IE.p_vec[40]"
   ]
  },
  {
   "cell_type": "markdown",
   "metadata": {},
   "source": [
    "以上より、前期に操業していた場合、今期得られる短期利潤が -2.32 から -2.12の間あたりが操業の分岐点になる"
   ]
  },
  {
   "cell_type": "code",
   "execution_count": 12,
   "metadata": {
    "collapsed": true
   },
   "outputs": [],
   "source": [
    "# U_computed の差分\n",
    "U_diff = Vector{Float64}(length(U_computed)-1)\n",
    "for i in 1:length(V_diff)\n",
    "    U_diff[i] = U_computed[i+1] - U_computed[i]\n",
    "end"
   ]
  },
  {
   "cell_type": "code",
   "execution_count": 13,
   "metadata": {},
   "outputs": [
    {
     "data": {
      "text/html": [
       "68"
      ],
      "text/plain": [
       "68"
      ]
     },
     "execution_count": 13,
     "metadata": {},
     "output_type": "execute_result"
    }
   ],
   "source": [
    "findfirst(U_diff .- 0.1 .> 0, true)"
   ]
  },
  {
   "cell_type": "code",
   "execution_count": 14,
   "metadata": {},
   "outputs": [
    {
     "data": {
      "text/html": [
       "3.5353535353535355"
      ],
      "text/plain": [
       "3.5353535353535355"
      ]
     },
     "execution_count": 14,
     "metadata": {},
     "output_type": "execute_result"
    }
   ],
   "source": [
    "IE.p_vec[68]"
   ]
  },
  {
   "cell_type": "code",
   "execution_count": 15,
   "metadata": {},
   "outputs": [
    {
     "data": {
      "text/html": [
       "3.7373737373737375"
      ],
      "text/plain": [
       "3.7373737373737375"
      ]
     },
     "execution_count": 15,
     "metadata": {},
     "output_type": "execute_result"
    }
   ],
   "source": [
    "IE.p_vec[69]"
   ]
  },
  {
   "cell_type": "markdown",
   "metadata": {},
   "source": [
    "同様に、前期操業していなかった場合は、3.53 から 3.73 のあたりが、操業の分岐点になる"
   ]
  },
  {
   "cell_type": "markdown",
   "metadata": {},
   "source": [
    "Entry cost を 10 から 5 に引き下げてみたらどうなるか試してみる"
   ]
  },
  {
   "cell_type": "code",
   "execution_count": 16,
   "metadata": {},
   "outputs": [],
   "source": [
    "IE2 = IndustryEntry(0.0, 0.7, 10, 5, 1.0, 0.9, collect(linspace(-10, 10, 100)));"
   ]
  },
  {
   "cell_type": "code",
   "execution_count": 17,
   "metadata": {},
   "outputs": [
    {
     "data": {
      "text/html": [
       "5"
      ],
      "text/plain": [
       "5"
      ]
     },
     "execution_count": 17,
     "metadata": {},
     "output_type": "execute_result"
    }
   ],
   "source": [
    "IE2.kentry = 5"
   ]
  },
  {
   "cell_type": "code",
   "execution_count": 18,
   "metadata": {
    "collapsed": true
   },
   "outputs": [],
   "source": [
    "V_computed2 = copy(V)\n",
    "U_computed2 = copy(U)\n",
    "for i in 1:500\n",
    "    V_computed2, U_computed2 = update_bellman(IE2, V_computed2, U_computed2)\n",
    "end"
   ]
  },
  {
   "cell_type": "code",
   "execution_count": 19,
   "metadata": {},
   "outputs": [
    {
     "data": {
      "text/html": [
       "<img src=\"data:image/png;base64,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\" />"
      ]
     },
     "execution_count": 19,
     "metadata": {},
     "output_type": "execute_result"
    }
   ],
   "source": [
    "plot(IE2.p_vec, [V_computed2 U_computed2], label=[\"Active\" \"Inactive\"],\n",
    "     xlabel=\"Profit\", ylabel=\"Value\", ylims=(-10, 30), yticks=-10:10:30)"
   ]
  },
  {
   "cell_type": "markdown",
   "metadata": {},
   "source": [
    "予想通り、前期操業していた場合はほぼ変わらず、前期操業していなかった場合に今期操業する閾値が小さくなっている"
   ]
  },
  {
   "cell_type": "code",
   "execution_count": null,
   "metadata": {
    "collapsed": true
   },
   "outputs": [],
   "source": []
  }
 ],
 "metadata": {
  "kernelspec": {
   "display_name": "Julia 0.6.0",
   "language": "julia",
   "name": "julia-0.6"
  },
  "language_info": {
   "file_extension": ".jl",
   "mimetype": "application/julia",
   "name": "julia",
   "version": "0.6.0"
  }
 },
 "nbformat": 4,
 "nbformat_minor": 2
}
